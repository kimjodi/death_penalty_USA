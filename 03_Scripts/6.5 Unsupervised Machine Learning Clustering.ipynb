{
 "cells": [
  {
   "cell_type": "markdown",
   "id": "b9b39c39",
   "metadata": {},
   "source": [
    "## Unsupervised Machine Learning Clustering"
   ]
  },
  {
   "cell_type": "markdown",
   "id": "980be8cc",
   "metadata": {},
   "source": [
    "### Table of Contents:\n",
    "    1. Import libraries and data\n",
    "    2. Data cleaning\n",
    "    3. Elbow technique\n",
    "    4. k-means clustering"
   ]
  },
  {
   "cell_type": "markdown",
   "id": "08380c65",
   "metadata": {},
   "source": [
    "### 1. Importing libraries and data"
   ]
  },
  {
   "cell_type": "code",
   "execution_count": 2,
   "id": "fa2e169d",
   "metadata": {},
   "outputs": [],
   "source": [
    "import pandas as pd\n",
    "import numpy as np\n",
    "import seaborn as sns\n",
    "import matplotlib\n",
    "import matplotlib.pyplot as plt\n",
    "import os\n",
    "import sklearn\n",
    "from sklearn.cluster import KMeans \n",
    "import pylab as pl "
   ]
  },
  {
   "cell_type": "code",
   "execution_count": 3,
   "id": "6df69ad2",
   "metadata": {},
   "outputs": [],
   "source": [
    "%matplotlib inline"
   ]
  },
  {
   "cell_type": "code",
   "execution_count": 4,
   "id": "ca0584a3",
   "metadata": {},
   "outputs": [],
   "source": [
    "# Define path\n",
    "\n",
    "path = r'/Users/jodikim/02_2023_Death_Penalty_Analysis'"
   ]
  },
  {
   "cell_type": "code",
   "execution_count": 5,
   "id": "4b0a6304",
   "metadata": {},
   "outputs": [],
   "source": [
    "# Import data for project\n",
    "\n",
    "df = pd.read_csv(r'/Users/jodikim/02_2023_Death_Penalty_Analysis/02_Data/Prepared_Data/us_executions_cleaned.csv', index_col = False)"
   ]
  },
  {
   "cell_type": "markdown",
   "id": "47f29e94",
   "metadata": {},
   "source": [
    "### 2. Data cleaning"
   ]
  },
  {
   "cell_type": "code",
   "execution_count": 6,
   "id": "f918b948",
   "metadata": {},
   "outputs": [
    {
     "data": {
      "text/plain": [
       "(1561, 25)"
      ]
     },
     "execution_count": 6,
     "metadata": {},
     "output_type": "execute_result"
    }
   ],
   "source": [
    "df.shape"
   ]
  },
  {
   "cell_type": "code",
   "execution_count": 7,
   "id": "ffa1fb5c",
   "metadata": {},
   "outputs": [
    {
     "data": {
      "text/html": [
       "<div>\n",
       "<style scoped>\n",
       "    .dataframe tbody tr th:only-of-type {\n",
       "        vertical-align: middle;\n",
       "    }\n",
       "\n",
       "    .dataframe tbody tr th {\n",
       "        vertical-align: top;\n",
       "    }\n",
       "\n",
       "    .dataframe thead th {\n",
       "        text-align: right;\n",
       "    }\n",
       "</style>\n",
       "<table border=\"1\" class=\"dataframe\">\n",
       "  <thead>\n",
       "    <tr style=\"text-align: right;\">\n",
       "      <th></th>\n",
       "      <th>Unnamed: 0</th>\n",
       "      <th>id</th>\n",
       "      <th>execution_volunteer</th>\n",
       "      <th>number_victims</th>\n",
       "      <th>juvenile</th>\n",
       "      <th>race</th>\n",
       "      <th>sex</th>\n",
       "      <th>region</th>\n",
       "      <th>country</th>\n",
       "      <th>state</th>\n",
       "      <th>...</th>\n",
       "      <th>asian_male_victims</th>\n",
       "      <th>native_amer_male_victims</th>\n",
       "      <th>other_race_male_victims</th>\n",
       "      <th>white_female_victims</th>\n",
       "      <th>black_female_victims</th>\n",
       "      <th>latino_female_victims</th>\n",
       "      <th>asian_female_victims</th>\n",
       "      <th>amerind_nativealask_female_victims</th>\n",
       "      <th>other_race_female_victims</th>\n",
       "      <th>victims_races</th>\n",
       "    </tr>\n",
       "  </thead>\n",
       "  <tbody>\n",
       "    <tr>\n",
       "      <th>0</th>\n",
       "      <td>0</td>\n",
       "      <td>1</td>\n",
       "      <td>yes</td>\n",
       "      <td>1</td>\n",
       "      <td>no</td>\n",
       "      <td>White</td>\n",
       "      <td>Male</td>\n",
       "      <td>West</td>\n",
       "      <td>United States</td>\n",
       "      <td>Utah</td>\n",
       "      <td>...</td>\n",
       "      <td>0</td>\n",
       "      <td>0</td>\n",
       "      <td>0</td>\n",
       "      <td>0</td>\n",
       "      <td>0</td>\n",
       "      <td>0</td>\n",
       "      <td>0</td>\n",
       "      <td>0</td>\n",
       "      <td>0</td>\n",
       "      <td>White</td>\n",
       "    </tr>\n",
       "    <tr>\n",
       "      <th>1</th>\n",
       "      <td>1</td>\n",
       "      <td>2</td>\n",
       "      <td>no</td>\n",
       "      <td>1</td>\n",
       "      <td>no</td>\n",
       "      <td>White</td>\n",
       "      <td>Male</td>\n",
       "      <td>South</td>\n",
       "      <td>United States</td>\n",
       "      <td>Florida</td>\n",
       "      <td>...</td>\n",
       "      <td>0</td>\n",
       "      <td>0</td>\n",
       "      <td>0</td>\n",
       "      <td>0</td>\n",
       "      <td>0</td>\n",
       "      <td>0</td>\n",
       "      <td>0</td>\n",
       "      <td>0</td>\n",
       "      <td>0</td>\n",
       "      <td>White</td>\n",
       "    </tr>\n",
       "    <tr>\n",
       "      <th>2</th>\n",
       "      <td>2</td>\n",
       "      <td>3</td>\n",
       "      <td>yes</td>\n",
       "      <td>1</td>\n",
       "      <td>no</td>\n",
       "      <td>White</td>\n",
       "      <td>Male</td>\n",
       "      <td>West</td>\n",
       "      <td>United States</td>\n",
       "      <td>Nevada</td>\n",
       "      <td>...</td>\n",
       "      <td>0</td>\n",
       "      <td>0</td>\n",
       "      <td>0</td>\n",
       "      <td>0</td>\n",
       "      <td>0</td>\n",
       "      <td>0</td>\n",
       "      <td>0</td>\n",
       "      <td>0</td>\n",
       "      <td>0</td>\n",
       "      <td>White</td>\n",
       "    </tr>\n",
       "    <tr>\n",
       "      <th>3</th>\n",
       "      <td>3</td>\n",
       "      <td>4</td>\n",
       "      <td>yes</td>\n",
       "      <td>4</td>\n",
       "      <td>no</td>\n",
       "      <td>White</td>\n",
       "      <td>Male</td>\n",
       "      <td>Midwest</td>\n",
       "      <td>United States</td>\n",
       "      <td>Indiana</td>\n",
       "      <td>...</td>\n",
       "      <td>0</td>\n",
       "      <td>0</td>\n",
       "      <td>0</td>\n",
       "      <td>2</td>\n",
       "      <td>0</td>\n",
       "      <td>0</td>\n",
       "      <td>0</td>\n",
       "      <td>0</td>\n",
       "      <td>0</td>\n",
       "      <td>White</td>\n",
       "    </tr>\n",
       "    <tr>\n",
       "      <th>4</th>\n",
       "      <td>4</td>\n",
       "      <td>5</td>\n",
       "      <td>yes</td>\n",
       "      <td>1</td>\n",
       "      <td>no</td>\n",
       "      <td>White</td>\n",
       "      <td>Male</td>\n",
       "      <td>South</td>\n",
       "      <td>United States</td>\n",
       "      <td>Virginia</td>\n",
       "      <td>...</td>\n",
       "      <td>0</td>\n",
       "      <td>0</td>\n",
       "      <td>0</td>\n",
       "      <td>0</td>\n",
       "      <td>0</td>\n",
       "      <td>0</td>\n",
       "      <td>0</td>\n",
       "      <td>0</td>\n",
       "      <td>0</td>\n",
       "      <td>White</td>\n",
       "    </tr>\n",
       "  </tbody>\n",
       "</table>\n",
       "<p>5 rows × 25 columns</p>\n",
       "</div>"
      ],
      "text/plain": [
       "   Unnamed: 0  id execution_volunteer  number_victims juvenile   race   sex  \\\n",
       "0           0   1                 yes               1       no  White  Male   \n",
       "1           1   2                  no               1       no  White  Male   \n",
       "2           2   3                 yes               1       no  White  Male   \n",
       "3           3   4                 yes               4       no  White  Male   \n",
       "4           4   5                 yes               1       no  White  Male   \n",
       "\n",
       "    region        country     state  ... asian_male_victims  \\\n",
       "0     West  United States      Utah  ...                  0   \n",
       "1    South  United States   Florida  ...                  0   \n",
       "2     West  United States    Nevada  ...                  0   \n",
       "3  Midwest  United States   Indiana  ...                  0   \n",
       "4    South  United States  Virginia  ...                  0   \n",
       "\n",
       "  native_amer_male_victims  other_race_male_victims  white_female_victims  \\\n",
       "0                        0                        0                     0   \n",
       "1                        0                        0                     0   \n",
       "2                        0                        0                     0   \n",
       "3                        0                        0                     2   \n",
       "4                        0                        0                     0   \n",
       "\n",
       "   black_female_victims  latino_female_victims  asian_female_victims  \\\n",
       "0                     0                      0                     0   \n",
       "1                     0                      0                     0   \n",
       "2                     0                      0                     0   \n",
       "3                     0                      0                     0   \n",
       "4                     0                      0                     0   \n",
       "\n",
       "   amerind_nativealask_female_victims  other_race_female_victims  \\\n",
       "0                                   0                          0   \n",
       "1                                   0                          0   \n",
       "2                                   0                          0   \n",
       "3                                   0                          0   \n",
       "4                                   0                          0   \n",
       "\n",
       "   victims_races  \n",
       "0          White  \n",
       "1          White  \n",
       "2          White  \n",
       "3          White  \n",
       "4          White  \n",
       "\n",
       "[5 rows x 25 columns]"
      ]
     },
     "execution_count": 7,
     "metadata": {},
     "output_type": "execute_result"
    }
   ],
   "source": [
    "df.head()"
   ]
  },
  {
   "cell_type": "code",
   "execution_count": 8,
   "id": "24517028",
   "metadata": {},
   "outputs": [],
   "source": [
    "# Dropping column 'unnamed'\n",
    "\n",
    "df = df.drop(columns = ['Unnamed: 0'])"
   ]
  },
  {
   "cell_type": "markdown",
   "id": "98d5d6fd",
   "metadata": {},
   "source": [
    "#### Not necessary to rename columns for this test "
   ]
  },
  {
   "cell_type": "code",
   "execution_count": 24,
   "id": "6073c1b8",
   "metadata": {},
   "outputs": [],
   "source": [
    "# Creating subset with only numerical variables for this test\n",
    "\n",
    "df_1 = df[['id', 'number_victims', 'white_male_victims', 'black_male_victims', 'latino_male_victims','asian_male_victims', 'native_amer_male_victims', 'other_race_male_victims', 'white_female_victims', 'black_female_victims', 'latino_female_victims', 'asian_female_victims', 'amerind_nativealask_female_victims', 'other_race_female_victims']]"
   ]
  },
  {
   "cell_type": "markdown",
   "id": "e17c570c",
   "metadata": {},
   "source": [
    "### 3. The elbow technique"
   ]
  },
  {
   "cell_type": "code",
   "execution_count": 25,
   "id": "e5597cac",
   "metadata": {},
   "outputs": [],
   "source": [
    "num_cl = range(1, 10) \n",
    "kmeans = [KMeans(n_clusters=i) for i in num_cl] "
   ]
  },
  {
   "cell_type": "code",
   "execution_count": 26,
   "id": "c17495b1",
   "metadata": {},
   "outputs": [],
   "source": [
    "score = [kmeans[i].fit(df_1).score(df_1) for i in range(len(kmeans))] "
   ]
  },
  {
   "cell_type": "code",
   "execution_count": 27,
   "id": "45422d82",
   "metadata": {},
   "outputs": [
    {
     "data": {
      "text/plain": [
       "[-316980855.48878944,\n",
       " -79248350.792805,\n",
       " -35224044.37605168,\n",
       " -19815951.57645125,\n",
       " -12684434.834985942,\n",
       " -8810443.795711774,\n",
       " -6478305.070105851,\n",
       " -4959481.7127833925,\n",
       " -3919424.8781444742]"
      ]
     },
     "execution_count": 27,
     "metadata": {},
     "output_type": "execute_result"
    }
   ],
   "source": [
    "score"
   ]
  },
  {
   "cell_type": "code",
   "execution_count": 28,
   "id": "d8ac3f1c",
   "metadata": {},
   "outputs": [
    {
     "data": {
      "image/png": "[encoded data removed]",
      "text/plain": [
       "<Figure size 432x288 with 1 Axes>"
      ]
     },
     "metadata": {
      "needs_background": "light"
     },
     "output_type": "display_data"
    }
   ],
   "source": [
    "# Plotting elbow curve\n",
    "\n",
    "pl.plot(num_cl,score)\n",
    "pl.xlabel('Number of Clusters')\n",
    "pl.ylabel('Score')\n",
    "pl.title('Elbow Curve')\n",
    "pl.show()"
   ]
  },
  {
   "cell_type": "markdown",
   "id": "02eecf41",
   "metadata": {},
   "source": [
    "#### This curve goes from 2 to 3 and then levels out at 4. Let's go with 4 for number of clusters."
   ]
  },
  {
   "cell_type": "markdown",
   "id": "7c7f7aca",
   "metadata": {},
   "source": [
    "### 4. k-means clustering"
   ]
  },
  {
   "cell_type": "code",
   "execution_count": 45,
   "id": "df32e311",
   "metadata": {},
   "outputs": [],
   "source": [
    "# Creating a k-means object\n",
    "\n",
    "kmeans = KMeans(n_clusters = 4)"
   ]
  },
  {
   "cell_type": "code",
   "execution_count": 46,
   "id": "6cc756ed",
   "metadata": {},
   "outputs": [
    {
     "data": {
      "text/plain": [
       "KMeans(n_clusters=4)"
      ]
     },
     "execution_count": 46,
     "metadata": {},
     "output_type": "execute_result"
    }
   ],
   "source": [
    "# Fitting the k-means object to the data\n",
    "\n",
    "kmeans.fit(df_1)"
   ]
  },
  {
   "cell_type": "code",
   "execution_count": 31,
   "id": "a5a7e37b",
   "metadata": {},
   "outputs": [
    {
     "name": "stderr",
     "output_type": "stream",
     "text": [
      "/var/folders/3t/llwblv5j2gl9m5qb95ff9hk00000gn/T/ipykernel_36852/2087946470.py:1: SettingWithCopyWarning: \n",
      "A value is trying to be set on a copy of a slice from a DataFrame.\n",
      "Try using .loc[row_indexer,col_indexer] = value instead\n",
      "\n",
      "See the caveats in the documentation: https://pandas.pydata.org/pandas-docs/stable/user_guide/indexing.html#returning-a-view-versus-a-copy\n",
      "  df_1['clusters'] = kmeans.fit_predict(df_1)\n"
     ]
    }
   ],
   "source": [
    "df_1['clusters'] = kmeans.fit_predict(df_1)"
   ]
  },
  {
   "cell_type": "code",
   "execution_count": 47,
   "id": "b73ccdce",
   "metadata": {},
   "outputs": [
    {
     "data": {
      "text/html": [
       "<div>\n",
       "<style scoped>\n",
       "    .dataframe tbody tr th:only-of-type {\n",
       "        vertical-align: middle;\n",
       "    }\n",
       "\n",
       "    .dataframe tbody tr th {\n",
       "        vertical-align: top;\n",
       "    }\n",
       "\n",
       "    .dataframe thead th {\n",
       "        text-align: right;\n",
       "    }\n",
       "</style>\n",
       "<table border=\"1\" class=\"dataframe\">\n",
       "  <thead>\n",
       "    <tr style=\"text-align: right;\">\n",
       "      <th></th>\n",
       "      <th>id</th>\n",
       "      <th>number_victims</th>\n",
       "      <th>white_male_victims</th>\n",
       "      <th>black_male_victims</th>\n",
       "      <th>latino_male_victims</th>\n",
       "      <th>asian_male_victims</th>\n",
       "      <th>native_amer_male_victims</th>\n",
       "      <th>other_race_male_victims</th>\n",
       "      <th>white_female_victims</th>\n",
       "      <th>black_female_victims</th>\n",
       "      <th>latino_female_victims</th>\n",
       "      <th>asian_female_victims</th>\n",
       "      <th>amerind_nativealask_female_victims</th>\n",
       "      <th>other_race_female_victims</th>\n",
       "      <th>clusters</th>\n",
       "    </tr>\n",
       "  </thead>\n",
       "  <tbody>\n",
       "    <tr>\n",
       "      <th>0</th>\n",
       "      <td>1</td>\n",
       "      <td>1</td>\n",
       "      <td>1</td>\n",
       "      <td>0</td>\n",
       "      <td>0</td>\n",
       "      <td>0</td>\n",
       "      <td>0</td>\n",
       "      <td>0</td>\n",
       "      <td>0</td>\n",
       "      <td>0</td>\n",
       "      <td>0</td>\n",
       "      <td>0</td>\n",
       "      <td>0</td>\n",
       "      <td>0</td>\n",
       "      <td>1</td>\n",
       "    </tr>\n",
       "    <tr>\n",
       "      <th>1</th>\n",
       "      <td>2</td>\n",
       "      <td>1</td>\n",
       "      <td>1</td>\n",
       "      <td>0</td>\n",
       "      <td>0</td>\n",
       "      <td>0</td>\n",
       "      <td>0</td>\n",
       "      <td>0</td>\n",
       "      <td>0</td>\n",
       "      <td>0</td>\n",
       "      <td>0</td>\n",
       "      <td>0</td>\n",
       "      <td>0</td>\n",
       "      <td>0</td>\n",
       "      <td>1</td>\n",
       "    </tr>\n",
       "    <tr>\n",
       "      <th>2</th>\n",
       "      <td>3</td>\n",
       "      <td>1</td>\n",
       "      <td>1</td>\n",
       "      <td>0</td>\n",
       "      <td>0</td>\n",
       "      <td>0</td>\n",
       "      <td>0</td>\n",
       "      <td>0</td>\n",
       "      <td>0</td>\n",
       "      <td>0</td>\n",
       "      <td>0</td>\n",
       "      <td>0</td>\n",
       "      <td>0</td>\n",
       "      <td>0</td>\n",
       "      <td>1</td>\n",
       "    </tr>\n",
       "    <tr>\n",
       "      <th>3</th>\n",
       "      <td>4</td>\n",
       "      <td>4</td>\n",
       "      <td>2</td>\n",
       "      <td>0</td>\n",
       "      <td>0</td>\n",
       "      <td>0</td>\n",
       "      <td>0</td>\n",
       "      <td>0</td>\n",
       "      <td>2</td>\n",
       "      <td>0</td>\n",
       "      <td>0</td>\n",
       "      <td>0</td>\n",
       "      <td>0</td>\n",
       "      <td>0</td>\n",
       "      <td>1</td>\n",
       "    </tr>\n",
       "    <tr>\n",
       "      <th>4</th>\n",
       "      <td>5</td>\n",
       "      <td>1</td>\n",
       "      <td>1</td>\n",
       "      <td>0</td>\n",
       "      <td>0</td>\n",
       "      <td>0</td>\n",
       "      <td>0</td>\n",
       "      <td>0</td>\n",
       "      <td>0</td>\n",
       "      <td>0</td>\n",
       "      <td>0</td>\n",
       "      <td>0</td>\n",
       "      <td>0</td>\n",
       "      <td>0</td>\n",
       "      <td>1</td>\n",
       "    </tr>\n",
       "  </tbody>\n",
       "</table>\n",
       "</div>"
      ],
      "text/plain": [
       "   id  number_victims  white_male_victims  black_male_victims  \\\n",
       "0   1               1                   1                   0   \n",
       "1   2               1                   1                   0   \n",
       "2   3               1                   1                   0   \n",
       "3   4               4                   2                   0   \n",
       "4   5               1                   1                   0   \n",
       "\n",
       "   latino_male_victims  asian_male_victims  native_amer_male_victims  \\\n",
       "0                    0                   0                         0   \n",
       "1                    0                   0                         0   \n",
       "2                    0                   0                         0   \n",
       "3                    0                   0                         0   \n",
       "4                    0                   0                         0   \n",
       "\n",
       "   other_race_male_victims  white_female_victims  black_female_victims  \\\n",
       "0                        0                     0                     0   \n",
       "1                        0                     0                     0   \n",
       "2                        0                     0                     0   \n",
       "3                        0                     2                     0   \n",
       "4                        0                     0                     0   \n",
       "\n",
       "   latino_female_victims  asian_female_victims  \\\n",
       "0                      0                     0   \n",
       "1                      0                     0   \n",
       "2                      0                     0   \n",
       "3                      0                     0   \n",
       "4                      0                     0   \n",
       "\n",
       "   amerind_nativealask_female_victims  other_race_female_victims  clusters  \n",
       "0                                   0                          0         1  \n",
       "1                                   0                          0         1  \n",
       "2                                   0                          0         1  \n",
       "3                                   0                          0         1  \n",
       "4                                   0                          0         1  "
      ]
     },
     "execution_count": 47,
     "metadata": {},
     "output_type": "execute_result"
    }
   ],
   "source": [
    "df_1.head()"
   ]
  },
  {
   "cell_type": "code",
   "execution_count": 48,
   "id": "2553ad2b",
   "metadata": {},
   "outputs": [
    {
     "data": {
      "text/plain": [
       "0    521\n",
       "1    520\n",
       "2    520\n",
       "Name: clusters, dtype: int64"
      ]
     },
     "execution_count": 48,
     "metadata": {},
     "output_type": "execute_result"
    }
   ],
   "source": [
    "df_1['clusters'].value_counts()"
   ]
  },
  {
   "cell_type": "code",
   "execution_count": 49,
   "id": "ed6cfb2f",
   "metadata": {},
   "outputs": [
    {
     "data": {
      "image/png": "[encoded data removed]",
      "text/plain": [
       "<Figure size 864x576 with 1 Axes>"
      ]
     },
     "metadata": {
      "needs_background": "light"
     },
     "output_type": "display_data"
    }
   ],
   "source": [
    "# Plotting the clusters for the \"id\" and \"white male victims\" variables.\n",
    "\n",
    "plt.figure(figsize=(12,8))\n",
    "ax = sns.scatterplot(x=df['white_male_victims'], y=df['id'], hue=kmeans.labels_, s=100) \n",
    "\n",
    "ax.grid(False) \n",
    "plt.xlabel('white_male_victims') \n",
    "plt.ylabel('id') \n",
    "plt.show()"
   ]
  },
  {
   "cell_type": "code",
   "execution_count": 52,
   "id": "8ca36a90",
   "metadata": {},
   "outputs": [
    {
     "data": {
      "text/html": [
       "<div>\n",
       "<style scoped>\n",
       "    .dataframe tbody tr th:only-of-type {\n",
       "        vertical-align: middle;\n",
       "    }\n",
       "\n",
       "    .dataframe tbody tr th {\n",
       "        vertical-align: top;\n",
       "    }\n",
       "\n",
       "    .dataframe thead tr th {\n",
       "        text-align: left;\n",
       "    }\n",
       "\n",
       "    .dataframe thead tr:last-of-type th {\n",
       "        text-align: right;\n",
       "    }\n",
       "</style>\n",
       "<table border=\"1\" class=\"dataframe\">\n",
       "  <thead>\n",
       "    <tr>\n",
       "      <th></th>\n",
       "      <th colspan=\"2\" halign=\"left\">white_male_victims</th>\n",
       "      <th colspan=\"2\" halign=\"left\">id</th>\n",
       "    </tr>\n",
       "    <tr>\n",
       "      <th></th>\n",
       "      <th>mean</th>\n",
       "      <th>median</th>\n",
       "      <th>mean</th>\n",
       "      <th>median</th>\n",
       "    </tr>\n",
       "    <tr>\n",
       "      <th>clusters</th>\n",
       "      <th></th>\n",
       "      <th></th>\n",
       "      <th></th>\n",
       "      <th></th>\n",
       "    </tr>\n",
       "  </thead>\n",
       "  <tbody>\n",
       "    <tr>\n",
       "      <th>0</th>\n",
       "      <td>0.485605</td>\n",
       "      <td>0.0</td>\n",
       "      <td>1301.0</td>\n",
       "      <td>1301.0</td>\n",
       "    </tr>\n",
       "    <tr>\n",
       "      <th>1</th>\n",
       "      <td>0.603846</td>\n",
       "      <td>0.0</td>\n",
       "      <td>260.5</td>\n",
       "      <td>260.5</td>\n",
       "    </tr>\n",
       "    <tr>\n",
       "      <th>2</th>\n",
       "      <td>0.519231</td>\n",
       "      <td>0.0</td>\n",
       "      <td>780.5</td>\n",
       "      <td>780.5</td>\n",
       "    </tr>\n",
       "  </tbody>\n",
       "</table>\n",
       "</div>"
      ],
      "text/plain": [
       "         white_male_victims             id        \n",
       "                       mean median    mean  median\n",
       "clusters                                          \n",
       "0                  0.485605    0.0  1301.0  1301.0\n",
       "1                  0.603846    0.0   260.5   260.5\n",
       "2                  0.519231    0.0   780.5   780.5"
      ]
     },
     "execution_count": 52,
     "metadata": {},
     "output_type": "execute_result"
    }
   ],
   "source": [
    "df_1.groupby('clusters').agg({'white_male_victims':['mean', 'median'],\n",
    "                            'id':['mean', 'median']})"
   ]
  },
  {
   "cell_type": "code",
   "execution_count": 35,
   "id": "8c78c0b1",
   "metadata": {},
   "outputs": [],
   "source": [
    "# Creating a new subset without 'id' column for this test\n",
    "\n",
    "df_2 = df[['number_victims', 'white_male_victims', 'black_male_victims', 'latino_male_victims','asian_male_victims', 'native_amer_male_victims', 'other_race_male_victims', 'white_female_victims', 'black_female_victims', 'latino_female_victims', 'asian_female_victims', 'amerind_nativealask_female_victims', 'other_race_female_victims']]"
   ]
  },
  {
   "cell_type": "code",
   "execution_count": 36,
   "id": "f0bf5d72",
   "metadata": {},
   "outputs": [],
   "source": [
    "# Elbow technique\n",
    "\n",
    "num_cl = range(1, 10) \n",
    "kmeans = [KMeans(n_clusters=i) for i in num_cl] "
   ]
  },
  {
   "cell_type": "code",
   "execution_count": 38,
   "id": "77703230",
   "metadata": {},
   "outputs": [],
   "source": [
    "score = [kmeans[i].fit(df_2).score(df_2) for i in range(len(kmeans))] "
   ]
  },
  {
   "cell_type": "code",
   "execution_count": 39,
   "id": "bf58eb93",
   "metadata": {},
   "outputs": [
    {
     "data": {
      "text/plain": [
       "[-4195.488789237668,\n",
       " -3007.152230845895,\n",
       " -2513.2102069430443,\n",
       " -2166.110771927896,\n",
       " -1876.5541122884806,\n",
       " -1612.2639781736552,\n",
       " -1442.226428662315,\n",
       " -1267.9447173259439,\n",
       " -1161.7699831899502]"
      ]
     },
     "execution_count": 39,
     "metadata": {},
     "output_type": "execute_result"
    }
   ],
   "source": [
    "score"
   ]
  },
  {
   "cell_type": "code",
   "execution_count": 40,
   "id": "d0bd435c",
   "metadata": {},
   "outputs": [
    {
     "data": {
      "image/png": "[encoded data removed]",
      "text/plain": [
       "<Figure size 432x288 with 1 Axes>"
      ]
     },
     "metadata": {
      "needs_background": "light"
     },
     "output_type": "display_data"
    }
   ],
   "source": [
    "# Plotting elbow curve\n",
    "\n",
    "pl.plot(num_cl,score)\n",
    "pl.xlabel('Number of Clusters')\n",
    "pl.ylabel('Score')\n",
    "pl.title('Elbow Curve')\n",
    "pl.show()"
   ]
  },
  {
   "cell_type": "code",
   "execution_count": 41,
   "id": "1f62b5b6",
   "metadata": {},
   "outputs": [],
   "source": [
    "# Creating a k-means object with 8 for the number of clusters as the curve seems to level out a bit at 8.\n",
    "\n",
    "kmeans = KMeans(n_clusters = 8)"
   ]
  },
  {
   "cell_type": "code",
   "execution_count": 42,
   "id": "2783c4fc",
   "metadata": {},
   "outputs": [
    {
     "data": {
      "text/plain": [
       "KMeans()"
      ]
     },
     "execution_count": 42,
     "metadata": {},
     "output_type": "execute_result"
    }
   ],
   "source": [
    "# Fitting the k-means object to the data\n",
    "\n",
    "kmeans.fit(df_2)"
   ]
  },
  {
   "cell_type": "code",
   "execution_count": 43,
   "id": "b8c71f5a",
   "metadata": {},
   "outputs": [
    {
     "name": "stderr",
     "output_type": "stream",
     "text": [
      "/var/folders/3t/llwblv5j2gl9m5qb95ff9hk00000gn/T/ipykernel_36852/1948498210.py:1: SettingWithCopyWarning: \n",
      "A value is trying to be set on a copy of a slice from a DataFrame.\n",
      "Try using .loc[row_indexer,col_indexer] = value instead\n",
      "\n",
      "See the caveats in the documentation: https://pandas.pydata.org/pandas-docs/stable/user_guide/indexing.html#returning-a-view-versus-a-copy\n",
      "  df_2['clusters'] = kmeans.fit_predict(df_2)\n"
     ]
    }
   ],
   "source": [
    "df_2['clusters'] = kmeans.fit_predict(df_2)"
   ]
  },
  {
   "cell_type": "code",
   "execution_count": 44,
   "id": "13a283d3",
   "metadata": {},
   "outputs": [
    {
     "data": {
      "image/png": "[encoded data removed]",
      "text/plain": [
       "<Figure size 864x576 with 1 Axes>"
      ]
     },
     "metadata": {
      "needs_background": "light"
     },
     "output_type": "display_data"
    }
   ],
   "source": [
    "# Plotting the clusters for the \"white_male_victims\" and \"number victims\" variables.\n",
    "\n",
    "plt.figure(figsize=(12,8))\n",
    "ax = sns.scatterplot(x=df['white_male_victims'], y=df['number_victims'], hue=kmeans.labels_, s=100) \n",
    "\n",
    "ax.grid(False) \n",
    "plt.xlabel('white_male_victims') \n",
    "plt.ylabel('number_victims') \n",
    "plt.show()"
   ]
  },
  {
   "cell_type": "markdown",
   "id": "784db93c",
   "metadata": {},
   "source": [
    "#### As you noted in the previous exercise and with this one, the dataset I chose unfortunately does not lend itself well to these kinds of tests. Thanks for your advice and alternative things to try. I still wanted to go through the steps with the variables that I have just to see what kind of results it may yield. "
   ]
  },
  {
   "cell_type": "code",
   "execution_count": null,
   "id": "df2db910",
   "metadata": {},
   "outputs": [],
   "source": []
  }
 ],
 "metadata": {
  "kernelspec": {
   "display_name": "Python 3 (ipykernel)",
   "language": "python",
   "name": "python3"
  },
  "language_info": {
   "codemirror_mode": {
    "name": "ipython",
    "version": 3
   },
   "file_extension": ".py",
   "mimetype": "text/x-python",
   "name": "python",
   "nbconvert_exporter": "python",
   "pygments_lexer": "ipython3",
   "version": "3.9.12"
  }
 },
 "nbformat": 4,
 "nbformat_minor": 5
}
